{
  "nbformat": 4,
  "nbformat_minor": 0,
  "metadata": {
    "colab": {
      "provenance": [],
      "gpuType": "T4",
      "authorship_tag": "ABX9TyM42XJ0e3rh295Fem6Lacrd",
      "include_colab_link": true
    },
    "kernelspec": {
      "name": "python3",
      "display_name": "Python 3"
    },
    "language_info": {
      "name": "python"
    },
    "accelerator": "GPU"
  },
  "cells": [
    {
      "cell_type": "markdown",
      "metadata": {
        "id": "view-in-github",
        "colab_type": "text"
      },
      "source": [
        "<a href=\"https://colab.research.google.com/github/jyj1206/SoloDeepLearning/blob/main/Chapter4_Well_Organized_DL_Code_from_Scartch.ipynb\" target=\"_parent\"><img src=\"https://colab.research.google.com/assets/colab-badge.svg\" alt=\"Open In Colab\"/></a>"
      ]
    },
    {
      "cell_type": "markdown",
      "source": [
        "# CIFAR10 Training with Fully Connected (FC) Laye"
      ],
      "metadata": {
        "id": "lWEuVQAla7NY"
      }
    },
    {
      "cell_type": "code",
      "source": [
        "# 라이브러리 불러오기\n",
        "import torch\n",
        "import torchvision\n",
        "import torchvision.transforms as transforms"
      ],
      "metadata": {
        "id": "ZysUL5b2CGzY"
      },
      "execution_count": 142,
      "outputs": []
    },
    {
      "cell_type": "code",
      "source": [
        "# CIFAR10 데이터 다운로드 및 불러오기\n",
        "transform = transforms.Compose(\n",
        "    {transforms.ToTensor(), # 이미지를 Tensor로 변경, 0~1로 스케일됨\n",
        "     transforms.Normalize((0.5, 0.5, 0.5), (0.5, 0.5, 0.5))} # normlize를 RGB 채널별로, 0.5로 shift 시킴 (-0.5 ~ 0.5), 0.5로 나누어줌 (-1 ~ 1) - normalize를 각 채널별로 적용\n",
        ")\n",
        "\n",
        "batch_size = 4\n",
        "\n",
        "trainset = torchvision.datasets.CIFAR10(root='./data', train=True,\n",
        "                                        download=True, transform=transform)\n",
        "\n",
        "trainset, valset = torch.utils.data.random_split(trainset, [40000, 10000])\n",
        "\n",
        "\n",
        "testset = torchvision.datasets.CIFAR10(root='./data', train=False,\n",
        "                                        download=True, transform=transform)\n",
        "\n",
        "trainloader = torch.utils.data.DataLoader(trainset, batch_size = batch_size,\n",
        "                                          shuffle = True, num_workers=2)\n",
        "\n",
        "valloader = torch.utils.data.DataLoader(valset, batch_size = batch_size,\n",
        "                                         shuffle = False, num_workers=2)\n",
        "\n",
        "testloader = torch.utils.data.DataLoader(testset, batch_size = batch_size,\n",
        "                                         shuffle=False, num_workers=2)\n",
        "\n",
        "\n",
        "classes = ('plane', 'car', 'bird', 'cat', 'dear', 'dog', 'forg', 'horse', 'ship', 'truck')"
      ],
      "metadata": {
        "colab": {
          "base_uri": "https://localhost:8080/"
        },
        "id": "fmqzNgiCCUvz",
        "outputId": "edbef3cc-cd24-4a8b-b20b-6daf44008504"
      },
      "execution_count": 143,
      "outputs": [
        {
          "output_type": "stream",
          "name": "stdout",
          "text": [
            "Files already downloaded and verified\n",
            "Files already downloaded and verified\n"
          ]
        }
      ]
    },
    {
      "cell_type": "code",
      "source": [
        "import matplotlib.pyplot as plt\n",
        "import numpy as np\n",
        "\n",
        "def imshow(img):\n",
        "  img = img / 2 + 0.5\n",
        "  npimg =img.numpy()\n",
        "  plt.imshow(np.transpose(npimg, (1, 2, 0)))\n",
        "  plt.show()\n",
        "\n",
        "dataiter = iter(trainloader)\n",
        "images, labels = next(dataiter)\n",
        "\n",
        "imshow(torchvision.utils.make_grid(images))\n",
        "\n",
        "print(' '.join('%5s' % classes[labels[j]] for j in range(4))) # ground truth 출력"
      ],
      "metadata": {
        "colab": {
          "base_uri": "https://localhost:8080/",
          "height": 212
        },
        "id": "hjelroVcCiR2",
        "outputId": "da9d8f8c-30bc-4856-9169-8dde9ae55059"
      },
      "execution_count": 104,
      "outputs": [
        {
          "output_type": "display_data",
          "data": {
            "text/plain": [
              "<Figure size 640x480 with 1 Axes>"
            ],
            "image/png": "[encoded data removed]"
          },
          "metadata": {}
        },
        {
          "output_type": "stream",
          "name": "stdout",
          "text": [
            "truck  dear  dear   dog\n"
          ]
        }
      ]
    },
    {
      "cell_type": "code",
      "source": [
        "# Inspect 데이터셋 - 데이터마다 shape이 다를 수 있으모로\n",
        "print(type(images)) # 데이터 타입\n",
        "print(images.shape) # 데이터 shape (배치가 4개, RGB, 가로, 세로)\n",
        "\n",
        "print(type(labels)) # 레이블 타입\n",
        "print(labels.shape) # 레이블 shape\n",
        "print(labels) # 값 출력 (이미지에 매칭되는 인덱스를 의미)"
      ],
      "metadata": {
        "colab": {
          "base_uri": "https://localhost:8080/"
        },
        "id": "dwa2d9quH_Wc",
        "outputId": "599822d7-3008-496b-bca8-1c6df24a6790"
      },
      "execution_count": 105,
      "outputs": [
        {
          "output_type": "stream",
          "name": "stdout",
          "text": [
            "<class 'torch.Tensor'>\n",
            "torch.Size([4, 3, 32, 32])\n",
            "<class 'torch.Tensor'>\n",
            "torch.Size([4])\n",
            "tensor([9, 4, 4, 5])\n"
          ]
        }
      ]
    },
    {
      "cell_type": "code",
      "source": [
        "# 모델 생성\n",
        "import torch.nn as nn\n",
        "\n",
        "class MLP(nn.Module) :\n",
        "  def __init__(self, in_dim, out_dim, hid_dim, n_layer, act):\n",
        "    super(MLP, self).__init__()\n",
        "    self.in_dim = in_dim\n",
        "    self.out_dim = out_dim\n",
        "    self.hid_dim = hid_dim\n",
        "    self.n_layer = n_layer\n",
        "    self.act = act\n",
        "\n",
        "    self.fc_in = nn.Linear(self.in_dim, self.hid_dim)\n",
        "\n",
        "    self.linears = nn.ModuleList(nn.Linear(self.hid_dim, self.hid_dim) for _  in range(self.n_layer-1) )\n",
        "\n",
        "    self.fc_out = nn.Linear(self.hid_dim, self.out_dim)\n",
        "\n",
        "    if self.act == 'relu':\n",
        "      self.act = nn.ReLU()\n",
        "\n",
        "  def forward(self, x):\n",
        "    x = self.act(self.fc_in(x))\n",
        "    for fc in self.linears:\n",
        "      x = self.act(fc(x))\n",
        "    x = self.fc_out(x)\n",
        "    return x"
      ],
      "metadata": {
        "id": "LHqK_qXLGRbc"
      },
      "execution_count": 106,
      "outputs": []
    },
    {
      "cell_type": "code",
      "source": [
        "model = MLP(3072, 10, 100, 4, 'relu')"
      ],
      "metadata": {
        "id": "aSz_s2BYIPcS"
      },
      "execution_count": 107,
      "outputs": []
    },
    {
      "cell_type": "code",
      "source": [
        "print(model)"
      ],
      "metadata": {
        "colab": {
          "base_uri": "https://localhost:8080/"
        },
        "id": "Gy4zrBcaQ0I1",
        "outputId": "2076dafc-0a56-490c-e82c-b0f628d5d54f"
      },
      "execution_count": 108,
      "outputs": [
        {
          "output_type": "stream",
          "name": "stdout",
          "text": [
            "MLP(\n",
            "  (fc_in): Linear(in_features=3072, out_features=100, bias=True)\n",
            "  (linears): ModuleList(\n",
            "    (0-2): 3 x Linear(in_features=100, out_features=100, bias=True)\n",
            "  )\n",
            "  (fc_out): Linear(in_features=100, out_features=10, bias=True)\n",
            "  (act): ReLU()\n",
            ")\n"
          ]
        }
      ]
    },
    {
      "cell_type": "markdown",
      "source": [
        "## Loss/Optimization"
      ],
      "metadata": {
        "id": "jKpFRPWSa3MO"
      }
    },
    {
      "cell_type": "code",
      "source": [
        "# Loss function, Optimization 정의\n",
        "import torch.optim as optim\n",
        "\n",
        "criterion = nn.CrossEntropyLoss()\n",
        "optimizer = optim.SGD(model.parameters(), lr=0.001, momentum=0.9)\n",
        "\n",
        "print(criterion)\n",
        "print(optimizer)"
      ],
      "metadata": {
        "colab": {
          "base_uri": "https://localhost:8080/"
        },
        "id": "uypldNTCQ8Ob",
        "outputId": "f5c8056e-b1bc-4ef3-cb89-a123ccdcbb79"
      },
      "execution_count": 109,
      "outputs": [
        {
          "output_type": "stream",
          "name": "stdout",
          "text": [
            "CrossEntropyLoss()\n",
            "SGD (\n",
            "Parameter Group 0\n",
            "    dampening: 0\n",
            "    differentiable: False\n",
            "    foreach: None\n",
            "    fused: None\n",
            "    lr: 0.001\n",
            "    maximize: False\n",
            "    momentum: 0.9\n",
            "    nesterov: False\n",
            "    weight_decay: 0\n",
            ")\n"
          ]
        }
      ]
    },
    {
      "cell_type": "markdown",
      "source": [
        "## Train Process"
      ],
      "metadata": {
        "id": "4BX3u-ZRayja"
      }
    },
    {
      "cell_type": "code",
      "source": [
        "# 모델 학습\n",
        "for epoch in range(2):\n",
        "  running_loss = 0.0\n",
        "  for i, data in enumerate(trainloader):\n",
        "    inputs, labels = data\n",
        "\n",
        "    # reshape 여기서 -1은 남아있는 몫을 채워줌\n",
        "    inputs = inputs.view(-1, 3072)\n",
        "\n",
        "    optimizer.zero_grad()\n",
        "\n",
        "    outputs = model(inputs)\n",
        "    loss = criterion(outputs, labels)\n",
        "    loss.backward()\n",
        "    optimizer.step()\n",
        "\n",
        "    running_loss += loss.item()\n",
        "    if i % 2000 == 1999:\n",
        "      print('[%d, %5d] loss: %.3f' % (epoch + 1, i + 1, running_loss / 2000))\n",
        "      running_loss = 0.0\n",
        "\n",
        "print('Finished Training')"
      ],
      "metadata": {
        "colab": {
          "base_uri": "https://localhost:8080/"
        },
        "id": "vwN8bPhTSK-9",
        "outputId": "40a52575-416f-40a9-d7af-a9cde2f45ca2"
      },
      "execution_count": 110,
      "outputs": [
        {
          "output_type": "stream",
          "name": "stdout",
          "text": [
            "[1,  2000] loss: 2.175\n",
            "[1,  4000] loss: 1.895\n",
            "[1,  6000] loss: 1.756\n",
            "[1,  8000] loss: 1.705\n",
            "[1, 10000] loss: 1.652\n",
            "[2,  2000] loss: 1.583\n",
            "[2,  4000] loss: 1.574\n",
            "[2,  6000] loss: 1.553\n",
            "[2,  8000] loss: 1.535\n",
            "[2, 10000] loss: 1.497\n",
            "Finished Training\n"
          ]
        }
      ]
    },
    {
      "cell_type": "markdown",
      "source": [
        "## Validation, Test Prcoess"
      ],
      "metadata": {
        "id": "atHUBDLIaq88"
      }
    },
    {
      "cell_type": "code",
      "source": [
        "# Val Accuracy / Val Loss 측정\n",
        "correct = 0\n",
        "total = 0\n",
        "val_loss = 0\n",
        "with torch.no_grad():\n",
        "  for data in valloader:\n",
        "    images, labels = data\n",
        "    images = images.view(-1, 3072)\n",
        "    outputs = model(images)\n",
        "\n",
        "    loss = criterion(outputs, labels)\n",
        "    val_loss += loss.item()\n",
        "\n",
        "    _, predicted = torch.max(outputs.data, 1)\n",
        "    total += labels.size(0)\n",
        "    correct += (predicted == labels).sum().item()\n",
        "\n",
        "  val_loss = val_loss / len(valloader)\n",
        "  acc = 100 * correct / total\n",
        "\n",
        "print(f'Accuracy of the network on the 10000 val images: {acc:.2f}% {val_loss:.2f}')"
      ],
      "metadata": {
        "colab": {
          "base_uri": "https://localhost:8080/"
        },
        "id": "QX3s-0HFViQ5",
        "outputId": "b73b1c33-b38e-44c3-e71a-a379152b6cbc"
      },
      "execution_count": 116,
      "outputs": [
        {
          "output_type": "stream",
          "name": "stdout",
          "text": [
            "Accuracy of the network on the 10000 val images: 44.73% 1.53\n"
          ]
        }
      ]
    },
    {
      "cell_type": "code",
      "source": [
        "# Test Accuracy 측정\n",
        "correct = 0\n",
        "total = 0\n",
        "with torch.no_grad():\n",
        "  for data in testloader:\n",
        "    images, labels = data\n",
        "    images = images.view(-1, 3072)\n",
        "    outputs = model(images)\n",
        "    _, predicted = torch.max(outputs.data, 1)\n",
        "    total += labels.size(0)\n",
        "    correct += (predicted == labels).sum().item()\n",
        "\n",
        "  acc = 100 * correct / total\n",
        "\n",
        "print(f'Accuracy of the network on the 10000 test images: {acc}%')"
      ],
      "metadata": {
        "colab": {
          "base_uri": "https://localhost:8080/"
        },
        "id": "5bcO1moXV5uv",
        "outputId": "1887dd16-4deb-443d-b47a-84d60ead0810"
      },
      "execution_count": 117,
      "outputs": [
        {
          "output_type": "stream",
          "name": "stdout",
          "text": [
            "Accuracy of the network on the 10000 test images: 45.86%\n"
          ]
        }
      ]
    },
    {
      "cell_type": "markdown",
      "source": [
        "## Experiments"
      ],
      "metadata": {
        "id": "yBpMOhq8bDHc"
      }
    },
    {
      "cell_type": "code",
      "source": [
        "def experiment(args):\n",
        "  model = MLP(args.in_dim, args.out_dim, args.hid_dim, args.n_layer, args.act)\n",
        "  model.cuda()\n",
        "\n",
        "  criterion = nn.CrossEntropyLoss()\n",
        "  optimizer = optim.SGD(model.parameters(), lr = args.lr, momentum = args.mm)\n",
        "\n",
        "  ## ==== Train ==== ##\n",
        "  for epoch in range(args.epoch):\n",
        "\n",
        "    model.train()  # 학습 모드 설정\n",
        "\n",
        "    running_loss = 0.0\n",
        "    train_loss = 0.0\n",
        "    for i, data in enumerate(trainloader):\n",
        "      inputs, labels = data\n",
        "      # reshape, 여기서 -1은 남아있는 몫을 채워줌\n",
        "      inputs = inputs.view(-1, 3072)\n",
        "\n",
        "      inputs = inputs.cuda()\n",
        "      labels = labels.cuda()\n",
        "\n",
        "      optimizer.zero_grad()\n",
        "\n",
        "      outputs = model(inputs)\n",
        "      loss = criterion(outputs, labels)\n",
        "      loss.backward()\n",
        "      optimizer.step()\n",
        "\n",
        "      running_loss += loss.item()\n",
        "      train_loss += loss.item()\n",
        "      if i % 2000 == 1999: # print every 2000 mmini-batches\n",
        "        print('[%d, %5d] loss: %.3f' % (epoch + 1, i + 1, running_loss / 2000))\n",
        "        running_loss = 0.0\n",
        "\n",
        "    # 에포크 종료 후 미니배치 개수로 나누기\n",
        "    train_loss = train_loss / len(trainloader)\n",
        "\n",
        "    ## ==== validation ==== ##\n",
        "    model.eval()  # 평가 모드 설정\n",
        "\n",
        "    correct = 0\n",
        "    total = 0\n",
        "    val_loss = 0\n",
        "    with torch.no_grad():\n",
        "      for data in valloader:\n",
        "        images, labels = data\n",
        "        images = images.view(-1, 3072)\n",
        "\n",
        "        images = images.cuda()\n",
        "        labels = labels.cuda()\n",
        "\n",
        "        outputs = model(images)\n",
        "        loss = criterion(outputs, labels)\n",
        "        val_loss += loss.item()\n",
        "\n",
        "        _, predicted = torch.max(outputs.data, 1)\n",
        "        total += labels.size(0)\n",
        "        correct += (predicted == labels).sum().item()\n",
        "\n",
        "      val_loss = val_loss / len(valloader)\n",
        "      acc = 100 * correct / total\n",
        "\n",
        "    print(f'Epoch {epoch}, Train Loss : {train_loss:.2f}, Val Loss : {val_loss:.2f}, Val Acc : {acc}')\n",
        "\n",
        "\n",
        "  ## ==== Evaluation ==== ##\n",
        "  model.eval()  # 테스트 평가 모드 설정\n",
        "\n",
        "  correct = 0\n",
        "  total = 0\n",
        "  with torch.no_grad():\n",
        "    for data in testloader:\n",
        "      images, labels = data\n",
        "      images = images.view(-1, 3072)\n",
        "\n",
        "      images = images.cuda()\n",
        "      labels = labels.cuda()\n",
        "\n",
        "      outputs = model(images)\n",
        "      _, predicted = torch.max(outputs.data, 1)\n",
        "      total += labels.size(0)\n",
        "      correct += (predicted == labels).sum().item()\n",
        "\n",
        "    test_acc = 100 * correct / total\n",
        "\n",
        "  print(f'Accuracy of the network on the 10000 test images: {test_acc}%')\n",
        "\n",
        "  return train_loss, val_loss, train_loss, test_acc\n"
      ],
      "metadata": {
        "id": "kE65k4vzk6Nv"
      },
      "execution_count": 168,
      "outputs": []
    },
    {
      "cell_type": "code",
      "source": [
        "import argparse\n",
        "\n",
        "# seed 설정\n",
        "seed = 123\n",
        "np.random.seed(seed)\n",
        "torch.manual_seed(seed)\n",
        "\n",
        "parser = argparse.ArgumentParser()\n",
        "args = parser.parse_args(\"\")\n",
        "\n",
        "args.n_layer = 5\n",
        "args.in_dim = 3072\n",
        "args.out_dim = 10\n",
        "args.hid_dim = 100\n",
        "args.act = 'relu'\n",
        "args.lr = 0.001\n",
        "args.mm = 0.9\n",
        "args.epoch = 2"
      ],
      "metadata": {
        "id": "Ut25IUfDaJAJ"
      },
      "execution_count": 169,
      "outputs": []
    },
    {
      "cell_type": "code",
      "source": [
        "experiment(args)"
      ],
      "metadata": {
        "colab": {
          "base_uri": "https://localhost:8080/"
        },
        "id": "9Sq5j26Ny3C_",
        "outputId": "fa8cc72e-64a6-4276-861f-d355f4cefd38"
      },
      "execution_count": 170,
      "outputs": [
        {
          "output_type": "stream",
          "name": "stdout",
          "text": [
            "[1,  2000] loss: 2.297\n",
            "[1,  4000] loss: 2.106\n",
            "[1,  6000] loss: 1.934\n",
            "[1,  8000] loss: 1.803\n",
            "[1, 10000] loss: 1.732\n",
            "Epoch 0, Train Loss : 1.97, Val Loss : 1.72, Val Acc : 37.86\n",
            "[2,  2000] loss: 1.650\n",
            "[2,  4000] loss: 1.628\n",
            "[2,  6000] loss: 1.608\n",
            "[2,  8000] loss: 1.587\n",
            "[2, 10000] loss: 1.559\n",
            "Epoch 1, Train Loss : 1.61, Val Loss : 1.57, Val Acc : 43.68\n",
            "Accuracy of the network on the 10000 test images: 44.77%\n"
          ]
        },
        {
          "output_type": "execute_result",
          "data": {
            "text/plain": [
              "(1.6063425967127085, 1.5722606544733047, 1.6063425967127085, 44.77)"
            ]
          },
          "metadata": {},
          "execution_count": 170
        }
      ]
    },
    {
      "cell_type": "code",
      "source": [
        "list_var1 = [4, 5, 6]\n",
        "list_var2 = [50, 100, 150]\n",
        "\n",
        "for var1 in list_var1:\n",
        "    for var2 in list_var2:\n",
        "        args.n_layer = var1\n",
        "        args.hid_dim = var2\n",
        "        result = experiment(args)\n",
        "        print(result)"
      ],
      "metadata": {
        "colab": {
          "base_uri": "https://localhost:8080/"
        },
        "id": "ZtdywkKsqAxk",
        "outputId": "e6891f3d-5351-428a-b69b-0540c6e5eb8e"
      },
      "execution_count": 171,
      "outputs": [
        {
          "output_type": "stream",
          "name": "stdout",
          "text": [
            "[1,  2000] loss: 2.219\n",
            "[1,  4000] loss: 1.930\n",
            "[1,  6000] loss: 1.799\n",
            "[1,  8000] loss: 1.744\n",
            "[1, 10000] loss: 1.679\n",
            "Epoch 0, Train Loss : 1.87, Val Loss : 1.69, Val Acc : 39.04\n",
            "[2,  2000] loss: 1.646\n",
            "[2,  4000] loss: 1.615\n",
            "[2,  6000] loss: 1.580\n",
            "[2,  8000] loss: 1.591\n",
            "[2, 10000] loss: 1.564\n",
            "Epoch 1, Train Loss : 1.60, Val Loss : 1.59, Val Acc : 43.46\n",
            "Accuracy of the network on the 10000 test images: 44.41%\n",
            "(1.5990124841988087, 1.5872162140488624, 1.5990124841988087, 44.41)\n",
            "[1,  2000] loss: 2.232\n",
            "[1,  4000] loss: 1.913\n",
            "[1,  6000] loss: 1.774\n",
            "[1,  8000] loss: 1.709\n",
            "[1, 10000] loss: 1.652\n",
            "Epoch 0, Train Loss : 1.86, Val Loss : 1.67, Val Acc : 39.89\n",
            "[2,  2000] loss: 1.580\n",
            "[2,  4000] loss: 1.569\n",
            "[2,  6000] loss: 1.554\n",
            "[2,  8000] loss: 1.533\n",
            "[2, 10000] loss: 1.530\n",
            "Epoch 1, Train Loss : 1.55, Val Loss : 1.55, Val Acc : 44.74\n",
            "Accuracy of the network on the 10000 test images: 45.82%\n",
            "(1.553063637138903, 1.5483416438162327, 1.553063637138903, 45.82)\n",
            "[1,  2000] loss: 2.179\n",
            "[1,  4000] loss: 1.898\n",
            "[1,  6000] loss: 1.761\n",
            "[1,  8000] loss: 1.681\n",
            "[1, 10000] loss: 1.651\n",
            "Epoch 0, Train Loss : 1.83, Val Loss : 1.61, Val Acc : 42.8\n",
            "[2,  2000] loss: 1.565\n",
            "[2,  4000] loss: 1.540\n",
            "[2,  6000] loss: 1.549\n",
            "[2,  8000] loss: 1.528\n",
            "[2, 10000] loss: 1.505\n",
            "Epoch 1, Train Loss : 1.54, Val Loss : 1.52, Val Acc : 46.54\n",
            "Accuracy of the network on the 10000 test images: 47.16%\n",
            "(1.5372513283282518, 1.5166532784581184, 1.5372513283282518, 47.16)\n",
            "[1,  2000] loss: 2.291\n",
            "[1,  4000] loss: 2.056\n",
            "[1,  6000] loss: 1.919\n",
            "[1,  8000] loss: 1.843\n",
            "[1, 10000] loss: 1.768\n",
            "Epoch 0, Train Loss : 1.98, Val Loss : 1.74, Val Acc : 37.23\n",
            "[2,  2000] loss: 1.688\n",
            "[2,  4000] loss: 1.662\n",
            "[2,  6000] loss: 1.647\n",
            "[2,  8000] loss: 1.604\n",
            "[2, 10000] loss: 1.597\n",
            "Epoch 1, Train Loss : 1.64, Val Loss : 1.67, Val Acc : 39.84\n",
            "Accuracy of the network on the 10000 test images: 40.96%\n",
            "(1.6395768072873353, 1.6675621420800686, 1.6395768072873353, 40.96)\n",
            "[1,  2000] loss: 2.299\n",
            "[1,  4000] loss: 2.112\n",
            "[1,  6000] loss: 1.915\n",
            "[1,  8000] loss: 1.816\n",
            "[1, 10000] loss: 1.741\n",
            "Epoch 0, Train Loss : 1.98, Val Loss : 1.73, Val Acc : 37.84\n",
            "[2,  2000] loss: 1.659\n",
            "[2,  4000] loss: 1.630\n",
            "[2,  6000] loss: 1.598\n",
            "[2,  8000] loss: 1.581\n",
            "[2, 10000] loss: 1.573\n",
            "Epoch 1, Train Loss : 1.61, Val Loss : 1.58, Val Acc : 43.35\n",
            "Accuracy of the network on the 10000 test images: 45.11%\n",
            "(1.608110766863823, 1.5771800446867943, 1.608110766863823, 45.11)\n",
            "[1,  2000] loss: 2.299\n",
            "[1,  4000] loss: 2.112\n",
            "[1,  6000] loss: 1.890\n",
            "[1,  8000] loss: 1.809\n",
            "[1, 10000] loss: 1.705\n",
            "Epoch 0, Train Loss : 1.96, Val Loss : 1.74, Val Acc : 36.86\n",
            "[2,  2000] loss: 1.655\n",
            "[2,  4000] loss: 1.611\n",
            "[2,  6000] loss: 1.584\n",
            "[2,  8000] loss: 1.563\n",
            "[2, 10000] loss: 1.568\n",
            "Epoch 1, Train Loss : 1.60, Val Loss : 1.54, Val Acc : 44.53\n",
            "Accuracy of the network on the 10000 test images: 46.01%\n",
            "(1.5960627097889781, 1.5423250599384308, 1.5960627097889781, 46.01)\n",
            "[1,  2000] loss: 2.304\n",
            "[1,  4000] loss: 2.299\n",
            "[1,  6000] loss: 2.181\n",
            "[1,  8000] loss: 2.052\n",
            "[1, 10000] loss: 1.956\n",
            "Epoch 0, Train Loss : 2.16, Val Loss : 1.91, Val Acc : 24.94\n",
            "[2,  2000] loss: 1.874\n",
            "[2,  4000] loss: 1.853\n",
            "[2,  6000] loss: 1.809\n",
            "[2,  8000] loss: 1.738\n",
            "[2, 10000] loss: 1.714\n",
            "Epoch 1, Train Loss : 1.80, Val Loss : 1.69, Val Acc : 38.57\n",
            "Accuracy of the network on the 10000 test images: 39.9%\n",
            "(1.7976500223457814, 1.6860181605935096, 1.7976500223457814, 39.9)\n",
            "[1,  2000] loss: 2.303\n",
            "[1,  4000] loss: 2.298\n",
            "[1,  6000] loss: 2.151\n",
            "[1,  8000] loss: 2.016\n",
            "[1, 10000] loss: 1.908\n",
            "Epoch 0, Train Loss : 2.14, Val Loss : 1.90, Val Acc : 26.31\n",
            "[2,  2000] loss: 1.844\n",
            "[2,  4000] loss: 1.817\n",
            "[2,  6000] loss: 1.750\n",
            "[2,  8000] loss: 1.687\n",
            "[2, 10000] loss: 1.651\n",
            "Epoch 1, Train Loss : 1.75, Val Loss : 1.66, Val Acc : 39.45\n",
            "Accuracy of the network on the 10000 test images: 41.28%\n",
            "(1.7497436507552862, 1.6594100673913956, 1.7497436507552862, 41.28)\n",
            "[1,  2000] loss: 2.303\n",
            "[1,  4000] loss: 2.290\n",
            "[1,  6000] loss: 2.067\n",
            "[1,  8000] loss: 1.960\n",
            "[1, 10000] loss: 1.873\n",
            "Epoch 0, Train Loss : 2.10, Val Loss : 1.86, Val Acc : 30.81\n",
            "[2,  2000] loss: 1.802\n",
            "[2,  4000] loss: 1.725\n",
            "[2,  6000] loss: 1.674\n",
            "[2,  8000] loss: 1.625\n",
            "[2, 10000] loss: 1.607\n",
            "Epoch 1, Train Loss : 1.69, Val Loss : 1.65, Val Acc : 40.99\n",
            "Accuracy of the network on the 10000 test images: 41.63%\n",
            "(1.686709453690052, 1.6507115474820138, 1.686709453690052, 41.63)\n"
          ]
        }
      ]
    }
  ]
}